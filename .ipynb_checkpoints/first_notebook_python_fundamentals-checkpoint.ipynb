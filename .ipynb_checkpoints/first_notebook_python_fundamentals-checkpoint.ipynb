{
 "cells": [
  {
   "cell_type": "markdown",
   "metadata": {},
   "source": [
    "# Learn to Code Python for Data Science Notebook\n",
    "## This notebook is an interactive tool to run your code"
   ]
  },
  {
   "cell_type": "code",
   "execution_count": 19,
   "metadata": {},
   "outputs": [
    {
     "name": "stdout",
     "output_type": "stream",
     "text": [
      "Welcome to the Learn to Code Python Workshop!\n"
     ]
    }
   ],
   "source": [
    "# Click inside of this box and then type shift+Enter on your keyboard. \n",
    "print(\"Welcome to the Learn to Code Python Workshop!\")"
   ]
  },
  {
   "cell_type": "code",
   "execution_count": 1,
   "metadata": {},
   "outputs": [
    {
     "name": "stdout",
     "output_type": "stream",
     "text": [
      "The way to run the code in this cell is to click into the cell...\n",
      "And then type shift + enter on your keyboard\n"
     ]
    }
   ],
   "source": [
    "print(\"The way to run the code in this cell is to click into the cell...\")\n",
    "print(\"And then type shift + enter on your keyboard\")"
   ]
  },
  {
   "cell_type": "code",
   "execution_count": 2,
   "metadata": {
    "scrolled": true
   },
   "outputs": [
    {
     "name": "stdout",
     "output_type": "stream",
     "text": [
      "What is your name?charles\n",
      "Good morning, charles!\n"
     ]
    }
   ],
   "source": [
    "# Run this cell of code: input() gets input from users. Print prints stuff. Go figure!\n",
    "your_name = input(\"What is your name?\") \n",
    "print(\"Good morning, \" + your_name + \"!\") # run this cell"
   ]
  },
  {
   "cell_type": "markdown",
   "metadata": {},
   "source": [
    "### Data types\n",
    "Each piece of data has two fundamental characteristics:\n",
    "- The *value* of the data itself.\n",
    "- Every value has a *data type* which explains what kind of data the value is. \n",
    "- For example, the integer 2 has the value of 2 and the data type is integer. "
   ]
  },
  {
   "cell_type": "code",
   "execution_count": 5,
   "metadata": {},
   "outputs": [
    {
     "name": "stdout",
     "output_type": "stream",
     "text": [
      "<class 'bool'>\n",
      "<class 'str'>\n",
      "<class 'int'>\n",
      "<class 'builtin_function_or_method'>\n",
      "<class 'list'>\n"
     ]
    }
   ],
   "source": [
    "# You can find the type of any object by calling the type function with the object as the argument:\n",
    "print(type(True))\n",
    "print(type(\"this is text in a string\"))\n",
    "print(type(4))\n",
    "print(type(print))\n",
    "print(type([1, 2, 3]))"
   ]
  },
  {
   "cell_type": "code",
   "execution_count": 4,
   "metadata": {},
   "outputs": [
    {
     "name": "stdout",
     "output_type": "stream",
     "text": [
      "True\n",
      "<class 'bool'>\n",
      "<class 'bool'>\n",
      "It is True that True and False are both boolean types\n"
     ]
    }
   ],
   "source": [
    "# The boolean data type means only a True or False values.\n",
    "# With boolean types, we only have two possible values: True and False.\n",
    "True \n",
    "False\n",
    "print(True)\n",
    "print(type(True))\n",
    "print(type(False))\n",
    "print(\"It is \" + str(type(True) == type(False)) + \" that True and False are both boolean types\")"
   ]
  },
  {
   "cell_type": "markdown",
   "metadata": {},
   "source": [
    "###  Numbers in Python\n",
    "- Integers are any whole number, either negative or positive.\n",
    "- Floats are any number with a decimal\n",
    "2 # 2 is an integer\n",
    "0 # zero is an integerb"
   ]
  },
  {
   "cell_type": "code",
   "execution_count": null,
   "metadata": {
    "collapsed": true
   },
   "outputs": [],
   "source": [
    "#"
   ]
  },
  {
   "cell_type": "markdown",
   "metadata": {},
   "source": [
    "### Strings"
   ]
  },
  {
   "cell_type": "code",
   "execution_count": null,
   "metadata": {
    "collapsed": true
   },
   "outputs": [],
   "source": [
    "# Strings in python"
   ]
  },
  {
   "cell_type": "markdown",
   "metadata": {},
   "source": [
    "# Operators operate on values and produce results\n",
    "Let's look at some common operators:\n",
    "- `+` adds two numbers together if the data on bo\n",
    "- `+` adds two strings together.\n",
    "- `==` compares two values to see if they are the same value.\n",
    "- `!=` asks if the values on each side of the operator are **not** the same.]\n",
    "- `<` and `<=` are less than and less than or equal to\n",
    "- `>` and `>=` are greater than and greater than or equal to, respectively.\n",
    "\n"
   ]
  },
  {
   "cell_type": "code",
   "execution_count": 18,
   "metadata": {},
   "outputs": [
    {
     "name": "stdout",
     "output_type": "stream",
     "text": [
      "5\n",
      "Hello, Everybody!\n"
     ]
    }
   ],
   "source": [
    "print(2+3)\n",
    "print(\"Hello, \" + \"Everybody!\")"
   ]
  },
  {
   "cell_type": "code",
   "execution_count": 42,
   "metadata": {},
   "outputs": [
    {
     "name": "stdout",
     "output_type": "stream",
     "text": [
      "It is False that a and b variables are the same value\n",
      "It is True that a and b variables are different values\n"
     ]
    }
   ],
   "source": [
    "# Operators \n",
    "a = 2 # assignment operator \n",
    "b = 3 # assigns the variable named b the integer value of 2\n",
    "\n",
    "# == # equality comparison \n",
    "print(\"It is \" + str(a == b) + \" that a and b variables are the same value\")\n",
    "print(\"It is \" + str(a != b) + \" that a and b variables are different values\")\n"
   ]
  },
  {
   "cell_type": "code",
   "execution_count": null,
   "metadata": {
    "collapsed": true
   },
   "outputs": [],
   "source": [
    "# Variables -> Variables are references to \n",
    "# "
   ]
  },
  {
   "cell_type": "code",
   "execution_count": null,
   "metadata": {
    "collapsed": true
   },
   "outputs": [],
   "source": [
    "# conditional logic (do things conditionally)"
   ]
  },
  {
   "cell_type": "markdown",
   "metadata": {},
   "source": [
    "### Functions \n",
    "There are 2 kinds of functions in Python: built-in and user defined functions.\n",
    "\n",
    "Some built in functions:\n",
    "- type, print, len, sum, abs, range, list, min, max, round, etc...\n",
    "- For a complete list of build in functions, see https://docs.python.org/3/library/functions.html\n"
   ]
  },
  {
   "cell_type": "code",
   "execution_count": null,
   "metadata": {
    "collapsed": true
   },
   "outputs": [],
   "source": []
  },
  {
   "cell_type": "code",
   "execution_count": null,
   "metadata": {
    "collapsed": true
   },
   "outputs": [],
   "source": [
    "# Sequences (lists, tuples, dictionaries)"
   ]
  }
 ],
 "metadata": {
  "kernelspec": {
   "display_name": "Python 3",
   "language": "python",
   "name": "python3"
  },
  "language_info": {
   "codemirror_mode": {
    "name": "ipython",
    "version": 3
   },
   "file_extension": ".py",
   "mimetype": "text/x-python",
   "name": "python",
   "nbconvert_exporter": "python",
   "pygments_lexer": "ipython3",
   "version": "3.6.8"
  }
 },
 "nbformat": 4,
 "nbformat_minor": 2
}
