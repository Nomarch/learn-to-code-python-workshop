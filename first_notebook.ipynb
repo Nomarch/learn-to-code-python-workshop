{
 "cells": [
  {
   "cell_type": "markdown",
   "metadata": {
    "_uuid": "625c587f57522c988f35e92b515b8d8ef1f323d6"
   },
   "source": [
    "# Intro to Programming in Python\n",
    "## This notebook is an interactive tool to share/run code"
   ]
  },
  {
   "cell_type": "markdown",
   "metadata": {},
   "source": [
    "> \"Programming languages allow us to formalize instructions and express logic, business rules, mathematics, processes, and automation instructions in one single notation. - Ryan Orsinger"
   ]
  },
  {
   "cell_type": "markdown",
   "metadata": {},
   "source": [
    "# Part I - Basic Buiding Blocks\n",
    "0. Orientation - How to run code in this notebook\n",
    "1. Printing values\n",
    "2. Using comments\n",
    "3. Variables, assignment, and re-assignment\n",
    "4. Basic data types\n",
    "5. Mathematical operations in Python\n",
    "6. Logical operations in Python\n",
    "7. Comparison operators"
   ]
  },
  {
   "cell_type": "markdown",
   "metadata": {},
   "source": [
    "### 0. Orientation\n",
    "- Jupyter Notebooks, which Kaggle calls \"Kernels\", are a way to share and interactively run code from your browser.\n",
    "- Notebooks are made of cells\n",
    "- Each cell contains either code or text. \n",
    "- Code cells run the code, text cells render the text\n",
    "- To run a cell, click on the cell and click the Play button or do \"shift + Enter\" on your keyboard.\n",
    "- Python runs in all kinds of environments. These instructions are specific to Kaggle Kernels/Jupyter Notebooks."
   ]
  },
  {
   "cell_type": "markdown",
   "metadata": {},
   "source": [
    "### 1. Printing with the `print()` command"
   ]
  },
  {
   "cell_type": "code",
   "execution_count": 40,
   "metadata": {},
   "outputs": [
    {
     "name": "stdout",
     "output_type": "stream",
     "text": [
      "Good morning, ya'll!\n"
     ]
    }
   ],
   "source": [
    "print(\"Good morning, ya'll!\")"
   ]
  },
  {
   "cell_type": "code",
   "execution_count": 41,
   "metadata": {},
   "outputs": [
    {
     "name": "stdout",
     "output_type": "stream",
     "text": [
      "Use the print command\n",
      "To print\n",
      "Prints each and every line\n"
     ]
    }
   ],
   "source": [
    "print(\"Use the print command\")\n",
    "print(\"To print\")\n",
    "print(\"Prints each and every line\")"
   ]
  },
  {
   "cell_type": "code",
   "execution_count": 42,
   "metadata": {},
   "outputs": [
    {
     "data": {
      "text/plain": [
       "'Notebook cells automatically print the last line of code'"
      ]
     },
     "execution_count": 42,
     "metadata": {},
     "output_type": "execute_result"
    }
   ],
   "source": [
    "\"Notebook cells automatically print the last line of code\""
   ]
  },
  {
   "cell_type": "code",
   "execution_count": 43,
   "metadata": {},
   "outputs": [
    {
     "data": {
      "text/plain": [
       "5"
      ]
     },
     "execution_count": 43,
     "metadata": {},
     "output_type": "execute_result"
    }
   ],
   "source": [
    "# run this cell and the number 5 will be printed\n",
    "5"
   ]
  },
  {
   "cell_type": "code",
   "execution_count": 44,
   "metadata": {},
   "outputs": [
    {
     "data": {
      "text/plain": [
       "'only the last line'"
      ]
     },
     "execution_count": 44,
     "metadata": {},
     "output_type": "execute_result"
    }
   ],
   "source": [
    "\"Multiple lines\"\n",
    "\"do not print automatically\"\n",
    "\"only the last line\""
   ]
  },
  {
   "cell_type": "code",
   "execution_count": 45,
   "metadata": {},
   "outputs": [
    {
     "name": "stdout",
     "output_type": "stream",
     "text": [
      "That means\n",
      "The print command is important.\n",
      "When we want to print each line\n"
     ]
    }
   ],
   "source": [
    "print(\"That means\")\n",
    "print(\"The print command is important.\")\n",
    "print(\"When we want to print each line\")"
   ]
  },
  {
   "cell_type": "markdown",
   "metadata": {},
   "source": [
    "### 2. Comments are how we notate our code with descriptive text\n",
    "- Python comments are created by the hashtag symbol. \n",
    "- The hashtag \"comments out\" everything to the right of the hashtag.\n",
    "- Comments exist in the code but do not execute\n",
    "- Commenting your code is an industry best practice\n",
    "- A hashtag at the beginning of a line \"comments out"
   ]
  },
  {
   "cell_type": "code",
   "execution_count": 46,
   "metadata": {},
   "outputs": [],
   "source": [
    "# This is a comment. Run this cell. Do you see anything? Why or why not?"
   ]
  },
  {
   "cell_type": "code",
   "execution_count": 47,
   "metadata": {},
   "outputs": [],
   "source": [
    "# First, run this cell.\n",
    "# Then delete the hashtag at the beginning of the last line.\n",
    "# Last, run the cell again.\n",
    "# print(\"This is a 'commented out' print command\")"
   ]
  },
  {
   "cell_type": "code",
   "execution_count": 48,
   "metadata": {},
   "outputs": [],
   "source": [
    "# In Python\n",
    "# Comments are a best-practice when it comes to communicating to your future self and to fellow developers\n",
    "# print(\"Once the # at the beginning of this line is removed, this will print.\") # additional hashtags make additional comments"
   ]
  },
  {
   "cell_type": "markdown",
   "metadata": {},
   "source": [
    "### 3. Variables hold onto values and give them a name\n",
    "- \"Assigning a variable\" means to bind value to a variable.\n",
    "- Variables allow us to name values\n",
    "- Variables hold onto values for later.\n",
    "- Variables hold their assigned value(s) until \n",
    "- Applications use the same variable to hold different values for different users "
   ]
  },
  {
   "cell_type": "code",
   "execution_count": null,
   "metadata": {},
   "outputs": [],
   "source": [
    "# Variables hold values\n",
    "message = \"Hello, Everybody!\"\n",
    "print(message)"
   ]
  },
  {
   "cell_type": "code",
   "execution_count": null,
   "metadata": {},
   "outputs": [],
   "source": [
    "favorite_quote = \"If you can't solve a problem, then there is an easier problem you can solve:  find it.\"\n",
    "print(favorite_quote)"
   ]
  },
  {
   "cell_type": "code",
   "execution_count": 4,
   "metadata": {},
   "outputs": [
    {
     "name": "stdout",
     "output_type": "stream",
     "text": [
      "My favorite food is pizza.\n",
      "I changed my mind. My favorite food is actually curry.\n"
     ]
    }
   ],
   "source": [
    "# Variables can be assigned and re-assigned.\n",
    "favorite_food = \"pizza\"     # first assignment\n",
    "print(f'My favorite food is {favorite_food}.')\n",
    "favorite_food = \"curry\"     # reassignment\n",
    "print(f'I changed my mind. My favorite food is actually {favorite_food}.')"
   ]
  },
  {
   "cell_type": "markdown",
   "metadata": {},
   "source": [
    "### 4. Data Types \n",
    "\n",
    "Each piece of data has two fundamental characteristics:\n",
    "- The value of the data itself.\n",
    "- Every value has a data type which explains what kind of data the value is.\n",
    "- For example, the integer 2 has the value of 2 and the data type is integer.\n",
    "- The first data-types to learn:\n",
    "    - None\n",
    "    - Boolean\n",
    "    - Integer\n",
    "    - Float\n",
    "    - String\n",
    "    - List\n",
    "    - Function"
   ]
  },
  {
   "cell_type": "code",
   "execution_count": 50,
   "metadata": {},
   "outputs": [
    {
     "data": {
      "text/plain": [
       "NoneType"
      ]
     },
     "execution_count": 50,
     "metadata": {},
     "output_type": "execute_result"
    }
   ],
   "source": [
    "# The \"None\" data type represents the absence of a value. This is called \"null\" in some other programming languages\n",
    "type(None) "
   ]
  },
  {
   "cell_type": "code",
   "execution_count": 51,
   "metadata": {},
   "outputs": [
    {
     "data": {
      "text/plain": [
       "int"
      ]
     },
     "execution_count": 51,
     "metadata": {},
     "output_type": "execute_result"
    }
   ],
   "source": [
    "# Numbers without a decimal are integers. Integers can be negative or positive.\n",
    "type(-99)"
   ]
  },
  {
   "cell_type": "code",
   "execution_count": 52,
   "metadata": {},
   "outputs": [
    {
     "data": {
      "text/plain": [
       "float"
      ]
     },
     "execution_count": 52,
     "metadata": {},
     "output_type": "execute_result"
    }
   ],
   "source": [
    "type(2.3)"
   ]
  },
  {
   "cell_type": "code",
   "execution_count": 53,
   "metadata": {},
   "outputs": [
    {
     "data": {
      "text/plain": [
       "str"
      ]
     },
     "execution_count": 53,
     "metadata": {},
     "output_type": "execute_result"
    }
   ],
   "source": [
    "type(\"Howdy!\")"
   ]
  },
  {
   "cell_type": "code",
   "execution_count": 54,
   "metadata": {},
   "outputs": [
    {
     "name": "stdout",
     "output_type": "stream",
     "text": [
      "True\n",
      "False\n"
     ]
    }
   ],
   "source": [
    "# True and False are the only two Boolean values.\n",
    "True\n",
    "False\n",
    "\n",
    "print(True)\n",
    "print(False)"
   ]
  },
  {
   "cell_type": "markdown",
   "metadata": {},
   "source": [
    "### 5. Mathematical Operations in Python\n",
    "- Computers are not intelligent. They do 2nd grade math as fast as possible.\n",
    "- Programming languages need to have the ability to perform mathematical operations.\n",
    "- Mathematical operators in Python evaluate and provide\n",
    "- Order of operations in Python follows PEMDAS:\n",
    "    - Parentheses\n",
    "    - Exponents\n",
    "    - Multiplication\n",
    "    - Division\n",
    "    - Addition\n",
    "    - Subtraction"
   ]
  },
  {
   "cell_type": "markdown",
   "metadata": {},
   "source": [
    "###  Operators operate on values and produce values\n",
    "# Let's look at some math operators:\n",
    "- `+` adds two numbers together if the data on b\n",
    "- `-`\n",
    "- `*`\n",
    "- `/`\n",
    "- `%`\n",
    "- `**` is the exponentiation operator. 2 raised to the 3rd power is `2**3`"
   ]
  },
  {
   "cell_type": "markdown",
   "metadata": {},
   "source": [
    "### 6. Logical Operations in Python\n",
    "- Most common logical operations are:\n",
    "    - And\n",
    "    - Or\n",
    "    - Not\n",
    "- For a reminder, see [Conjunction Junction from School House Rock](https://www.youtube.com/watch?v=4AyjKgz9tKg)"
   ]
  },
  {
   "cell_type": "code",
   "execution_count": 31,
   "metadata": {},
   "outputs": [],
   "source": [
    "# Boolean values assigned to variables \n",
    "right_here_now = True\n",
    "learning_python = True\n",
    "on_the_moon = False"
   ]
  },
  {
   "cell_type": "code",
   "execution_count": 32,
   "metadata": {},
   "outputs": [
    {
     "name": "stdout",
     "output_type": "stream",
     "text": [
      "False\n"
     ]
    }
   ],
   "source": [
    "print(right_here_now and on_the_moon)"
   ]
  },
  {
   "cell_type": "code",
   "execution_count": 33,
   "metadata": {},
   "outputs": [
    {
     "name": "stdout",
     "output_type": "stream",
     "text": [
      "True\n"
     ]
    }
   ],
   "source": [
    "print(right_here_now and learning_python)"
   ]
  },
  {
   "cell_type": "code",
   "execution_count": 34,
   "metadata": {},
   "outputs": [
    {
     "name": "stdout",
     "output_type": "stream",
     "text": [
      "True\n"
     ]
    }
   ],
   "source": [
    "print(learning_python or on_the_moon)"
   ]
  },
  {
   "cell_type": "markdown",
   "metadata": {},
   "source": [
    "### 7. Comparison Operators in everyday life\n",
    "- Comparison operators compare two values and give us a True or False answer\n",
    "- Some comparisons in the real worl:\n",
    "    - Are these two things equal?\n",
    "    - Are these two things not equal?\n",
    "    - Is A greather than B?\n",
    "    - Is A greater than or equal to B?\n",
    "    - Is A less than B?\n",
    "    - Is A less than or equal to B?"
   ]
  },
  {
   "cell_type": "markdown",
   "metadata": {},
   "source": [
    "### Python Comparison Operators compare two values and return a True or False\n",
    "- `==` compares two values to see if they are the same value.\n",
    "- `!=` asks if the values on each side of the operator are **not** the same.]\n",
    "- `<` and `<=` are less than and less than or equal to\n",
    "- `>` and `>=` are greater than and greater than or equal to, respectively."
   ]
  },
  {
   "cell_type": "code",
   "execution_count": null,
   "metadata": {},
   "outputs": [],
   "source": [
    "\"It is \" + str(type(True) == type(False))"
   ]
  },
  {
   "cell_type": "code",
   "execution_count": 39,
   "metadata": {},
   "outputs": [
    {
     "name": "stdout",
     "output_type": "stream",
     "text": [
      "True\n",
      "True\n"
     ]
    }
   ],
   "source": [
    "print(5 == 5)\n",
    "print(-4 + 4 == 0)"
   ]
  },
  {
   "cell_type": "code",
   "execution_count": null,
   "metadata": {},
   "outputs": [],
   "source": [
    "5 < 10"
   ]
  },
  {
   "cell_type": "code",
   "execution_count": null,
   "metadata": {},
   "outputs": [],
   "source": [
    "print(\"Hello\" == \"Goodbye\")\n",
    "print(\"Hello\" != \"Goodbye\") # != means \"not equal to\" \n",
    "# = assignment\n",
    "# == comparison\n",
    "# != not the same"
   ]
  },
  {
   "cell_type": "code",
   "execution_count": null,
   "metadata": {},
   "outputs": [],
   "source": [
    "it_is_raining = False\n",
    "not it_is_raining\n"
   ]
  },
  {
   "cell_type": "markdown",
   "metadata": {},
   "source": [
    "# Part II - Lists and Control Structures\n",
    "- With programming and , we work with lots of lists of numbers.\n",
    "- The primary data type in Python for holding lists of numbers is called a list. It's like an array in other programming languages."
   ]
  },
  {
   "cell_type": "code",
   "execution_count": null,
   "metadata": {},
   "outputs": [],
   "source": [
    "# Single Condition with one \"if\"\n",
    "if(is_raining == True):\n",
    "    print(\"Bring an umbrella\")"
   ]
  },
  {
   "cell_type": "code",
   "execution_count": null,
   "metadata": {},
   "outputs": [],
   "source": [
    "# Conditional execution\n",
    "if 5 < 0:\n",
    "    print(\"We broke math\")\n",
    "else:\n",
    "    print(\"5 is not less than zero. 5 < 0 returns False\")\n",
    "    "
   ]
  },
  {
   "cell_type": "code",
   "execution_count": null,
   "metadata": {},
   "outputs": [],
   "source": [
    "favorite_number = 5\n",
    "if favorite_number == 23:\n",
    "    print(\"Yay! That's my favorite number, too!\")\n",
    "    print(\"anything indented inside the if is the BODY of the if\")\n",
    "    print(\"so, all the lines of code indented after the if run if the if is true\")"
   ]
  },
  {
   "cell_type": "code",
   "execution_count": null,
   "metadata": {},
   "outputs": [],
   "source": [
    "is_raining = False\n",
    "if is_raining:\n",
    "    print(\"Bring an umbrella and wear sensible shoes\")\n",
    "else: \n",
    "    print(\"Wear sandals\")\n",
    "    print(\"Carry laptop in hands\")\n",
    "print(\"The first non-indented line terminates your if/else\")\n",
    "print(\"Work on your python\")\n"
   ]
  },
  {
   "cell_type": "code",
   "execution_count": null,
   "metadata": {},
   "outputs": [],
   "source": [
    "# Conditional execution\n",
    "doing_python_right_now = True\n",
    "on_mars_right_now = False\n",
    "\n",
    "\n",
    "if(doing_python_right_now == True):\n",
    "    print(\"Yay Python! Practice makes permanent\")\n",
    "if(on_mars_right_now):\n",
    "    print(\"How long do you plan to stay on Mars?\")\n",
    "else:\n",
    "    print(\"I'm glad we're on Spaceship Earth.\")\n",
    "\n"
   ]
  },
  {
   "cell_type": "code",
   "execution_count": null,
   "metadata": {},
   "outputs": [],
   "source": [
    "favorite_quote = \"If you can't solve a problem, then there is an easier problem you can solve:  find it.\"\n",
    "print(favorite_quote)"
   ]
  },
  {
   "cell_type": "code",
   "execution_count": null,
   "metadata": {
    "_uuid": "31679f124e4fe10b82a4289647ce63e6578aa901"
   },
   "outputs": [],
   "source": [
    "# Click inside of this box and then type shift+Enter on your keyboard or click the Play button to the left to run the code\n",
    "print(\"Welcome to the Learn to Code Python Workshop!\")\n",
    "\n",
    "# anything on a line after a \"#\" sign is a code comment. Code comments are for people to read and they are not executed by the language.\n",
    "print(\"Hello, everybody!\") # prints the string \"Hello World\"\n"
   ]
  },
  {
   "cell_type": "code",
   "execution_count": null,
   "metadata": {
    "_uuid": "db975046070c2846d0898c0537ff66d9085fd238"
   },
   "outputs": [],
   "source": [
    "print(\"The way to run the code in this cell is to click into the cell...\")\n",
    "print(\"And then type shift + enter on your keyboard\")"
   ]
  },
  {
   "cell_type": "code",
   "execution_count": null,
   "metadata": {
    "_uuid": "8393cfd4a6710c772209991630d6bd738a2e9e47",
    "scrolled": true
   },
   "outputs": [],
   "source": [
    "number_of_mice = 3\n",
    "print(str(number_of_mice) + \" blind mice.\")\n",
    "number_of_mice = str(number_of_mice)\n"
   ]
  },
  {
   "cell_type": "code",
   "execution_count": null,
   "metadata": {},
   "outputs": [],
   "source": [
    "total = 0\n",
    "total = total + 0\n",
    "total = total + 2\n",
    "total = total + 4\n"
   ]
  },
  {
   "cell_type": "code",
   "execution_count": null,
   "metadata": {},
   "outputs": [],
   "source": [
    "\n",
    "favorite_number = 5\n",
    "result = favorite_number == 5 \n"
   ]
  },
  {
   "cell_type": "code",
   "execution_count": null,
   "metadata": {
    "_uuid": "00a12cbecf239ac419732ca2ee596423cc5b1fbf"
   },
   "outputs": [],
   "source": [
    "# With boolean types, we only have two possible values: True and False.\n",
    "# You can find the type of any object by calling the type function with the object as the argument:\n",
    "is_raining_right_now = False\n",
    "if(is_raining_right_now):\n",
    "    print(\"I'll dance in the rain\")\n",
    "    print(\"Pack an umbrella anyways\")\n",
    "\n",
    "    \n",
    "favorite_number = 23\n",
    "your_favorite_number = 10\n",
    "\n",
    "if(your_favorite_number > favorite_number):\n",
    "    print(your_favorite_number, \" is greater than \", favorite_number)\n",
    "else:\n",
    "    print(favorite_number, \"is greater than \", your_favorite_number)\n"
   ]
  },
  {
   "cell_type": "code",
   "execution_count": null,
   "metadata": {},
   "outputs": [],
   "source": [
    "a = 5\n",
    "b = 3\n",
    "c = ((a + b) * a) / b"
   ]
  },
  {
   "cell_type": "code",
   "execution_count": null,
   "metadata": {},
   "outputs": [],
   "source": [
    "# We're going to 'model' a lunch order.\n",
    "# Here, we will see the application of defining things in terms of themselves."
   ]
  },
  {
   "cell_type": "markdown",
   "metadata": {},
   "source": []
  },
  {
   "cell_type": "code",
   "execution_count": null,
   "metadata": {
    "_kg_hide-output": false,
    "_uuid": "7c7c04334e23d699772b0137a13f489f3f7d2401"
   },
   "outputs": [],
   "source": [
    "print(5) # function call is function execution instruction\n",
    "print(type(True))\n",
    "print(type(\"this is text in a string\"))\n",
    "print(type(4))\n",
    "print(type(print))\n",
    "print(type([1, 2, 3]))\n",
    "print(type(float(int(str(37)))))\n",
    "print((2 *3 * 2 * 3 * 5 * 7) / 2)\n",
    "print(favorite_number * 10)\n",
    "print(int(2.9))"
   ]
  },
  {
   "cell_type": "code",
   "execution_count": null,
   "metadata": {
    "_uuid": "5fa9ba4396fe1e95618e9059f3799a6c70df0b12"
   },
   "outputs": [],
   "source": [
    "# The boolean data type means only a True or False values.\n",
    "print(\"It is \" + str(type(True) == type(False)) + \" that True and False are the same data type\")"
   ]
  },
  {
   "cell_type": "code",
   "execution_count": null,
   "metadata": {
    "_uuid": "c4830a133cdd79071a8c68ad633ff996b88856ed"
   },
   "outputs": [],
   "source": [
    "# Boolean operators \n",
    "right_here_now = True\n",
    "learning_python = True\n",
    "on_the_moon = False\n",
    "\n",
    "if on_the_moon:\n",
    "    print(\"I was promised flying cars and moon bases\")\n",
    "\n",
    "if right_here_now and learning_python:\n",
    "    print(\"We are right here now and learning python. AND limits possibilities.\")\n",
    "\n",
    "if right_here_now and learning_python and on_the_moon:\n",
    "    print(\"How are you two places at once and also learning python on the moon?\")\n",
    "\n",
    "if right_here_now or on_the_moon:\n",
    "    print(\"One of two things is the case: we are right here now OR we're on the moon\")"
   ]
  },
  {
   "cell_type": "markdown",
   "metadata": {
    "_uuid": "772b411af6b79dffdc37cd7cb33e011335d72f44"
   },
   "source": [
    "###  Numbers in Python\n",
    "- Integers are any whole number, either negative or positive.\n",
    "- Floats are any number with a decimal\n",
    "2 # 2 is an integer\n",
    "0 # zero is an integerb"
   ]
  },
  {
   "cell_type": "markdown",
   "metadata": {
    "_uuid": "683a3b6759bc76bd27d0d80e41dea7bbdc11ffa5"
   },
   "source": [
    "### Strings"
   ]
  },
  {
   "cell_type": "markdown",
   "metadata": {
    "_uuid": "3d17a9654ecbede5b8d54171cf617562eb2b5653"
   },
   "source": []
  },
  {
   "cell_type": "code",
   "execution_count": null,
   "metadata": {
    "_uuid": "c51bbd5b973801a15e1188019fa065c2b9e1f423"
   },
   "outputs": [],
   "source": [
    "print(2+3)\n",
    "print(\"Hello, \" + \"Everybody!\")"
   ]
  },
  {
   "cell_type": "code",
   "execution_count": null,
   "metadata": {
    "_uuid": "de5957b59f486bbbf81dfaeedefcb0954e5569a3"
   },
   "outputs": [],
   "source": [
    "# Operators \n",
    "a = 2 # assignment operator \n",
    "b = 3 # assigns the variable named b the integer value of 2\n",
    "\n",
    "# == # equality comparison \n",
    "print(\"It is \" + str(a == b) + \" that a and b variables are the same value\")\n",
    "print(\"It is \" + str(a != b) + \" that a and b variables are different values\")\n"
   ]
  },
  {
   "cell_type": "code",
   "execution_count": null,
   "metadata": {
    "_uuid": "31edd518f2c47462416dcfe6d4516e1b30de9ad5"
   },
   "outputs": [],
   "source": [
    "2 > 3\n",
    "2 <= 234\n"
   ]
  },
  {
   "cell_type": "markdown",
   "metadata": {
    "_uuid": "2fa39d1e0b03a084c2a3b409a3f71194d2d40372"
   },
   "source": [
    "### Functions \n",
    "There are 2 kinds of functions in Python: built-in and user defined functions.\n",
    "\n",
    "Some built in functions:\n",
    "- type, print, len, sum, abs, range, list, min, max, round, etc...\n",
    "- For a complete list of build in functions, see https://docs.python.org/3/library/functions.html\n"
   ]
  },
  {
   "cell_type": "code",
   "execution_count": null,
   "metadata": {
    "_uuid": "b54e45874267d22e5976ef9268bac2b6c7cc126e"
   },
   "outputs": [],
   "source": [
    "fruits = [\"kiwi\", \"mango\", \"guava\", \"piña\", \"watermelon\", \"tangerine\"]\n",
    "numbers = [23, 5, 4, 3, 2, 1, 0, -37, 333]\n"
   ]
  },
  {
   "cell_type": "code",
   "execution_count": null,
   "metadata": {},
   "outputs": [],
   "source": [
    "def is_even(number):\n",
    "    remainder = number % 2 # the % operator returns the remainder of integer division of the number on the left by the number on the right\n",
    "    if remainder == 0: # even numbers have no remainder\n",
    "        return True\n",
    "    else:\n",
    "        return False"
   ]
  },
  {
   "cell_type": "code",
   "execution_count": null,
   "metadata": {
    "_uuid": "9460c6387736a1fa13ec55c8a54d4e64b237d824"
   },
   "outputs": [],
   "source": [
    "def sarcastic(sentence):\n",
    "    output = \"\"\n",
    "    for i, letter in enumerate(sentence):\n",
    "        if is_even(i):\n",
    "            letter = letter.upper()\n",
    "        else:\n",
    "            letter = letter.lower()\n",
    "        output += letter\n",
    "    return output              "
   ]
  },
  {
   "cell_type": "code",
   "execution_count": null,
   "metadata": {},
   "outputs": [],
   "source": []
  },
  {
   "cell_type": "code",
   "execution_count": null,
   "metadata": {
    "_uuid": "f1ef0e5afe6fb08e442c8ea1ec477c4a9db298de"
   },
   "outputs": [],
   "source": []
  },
  {
   "cell_type": "code",
   "execution_count": null,
   "metadata": {
    "_uuid": "c410084e558eb0215cd63e626d1116329aef9329",
    "collapsed": true
   },
   "outputs": [],
   "source": [
    "# lots of built in functions work on sequences\n",
    "names = [\"John\", \"Paul\", \"George\", \"Ringo\"]\n",
    "\n",
    "len(names)\n",
    "numbers = [2, 3, 5, 7]\n",
    "max(numbers)\n",
    "min(numbers)"
   ]
  },
  {
   "cell_type": "code",
   "execution_count": null,
   "metadata": {
    "_uuid": "975e69701f4384666bd841fcacc0b75c8caf0fee"
   },
   "outputs": [],
   "source": [
    "# def keyword to define, name_of_function, parentheses for parameters\n",
    "def square(number):\n",
    "    return number * number # return is the output we hand back to the code that called the function (calling == execute == run)\n",
    "\n",
    "# sigma notation\n",
    "numbers = [2, 3, 5, 7]\n",
    "sum(numbers)\n",
    "\n",
    "# each number squared\n",
    "result = list(map(square, numbers))\n",
    "sum(result)"
   ]
  },
  {
   "cell_type": "code",
   "execution_count": null,
   "metadata": {
    "_uuid": "6f3e14214a6d601f28e3a794cab504c67c74c0d8"
   },
   "outputs": [],
   "source": [
    "# == is the same thing as = sign in math\n",
    "# >, <, <=, >= are all the same thing as math\n",
    "numbers = [2, 3, 5, 7]\n",
    "total = sum(numbers)\n",
    "average = total / len(numbers)\n"
   ]
  },
  {
   "cell_type": "code",
   "execution_count": null,
   "metadata": {
    "_uuid": "f2a894ef58cc41b076da0c97aaf781db36742285"
   },
   "outputs": [],
   "source": []
  },
  {
   "cell_type": "code",
   "execution_count": null,
   "metadata": {
    "_uuid": "7d9ffc4457aa0233c6efedb27c8a0825c25bf9d1"
   },
   "outputs": [],
   "source": []
  },
  {
   "cell_type": "code",
   "execution_count": null,
   "metadata": {
    "_uuid": "81788439b387b99cb187fc7b62d4b5d52e06ef6d",
    "collapsed": true
   },
   "outputs": [],
   "source": []
  },
  {
   "cell_type": "code",
   "execution_count": null,
   "metadata": {
    "_uuid": "5bf0911b3b8741410bc210e626d0d128e8a0d26e"
   },
   "outputs": [],
   "source": []
  }
 ],
 "metadata": {
  "kernelspec": {
   "display_name": "Python 3",
   "language": "python",
   "name": "python3"
  },
  "language_info": {
   "codemirror_mode": {
    "name": "ipython",
    "version": 3
   },
   "file_extension": ".py",
   "mimetype": "text/x-python",
   "name": "python",
   "nbconvert_exporter": "python",
   "pygments_lexer": "ipython3",
   "version": "3.7.3"
  }
 },
 "nbformat": 4,
 "nbformat_minor": 1
}
