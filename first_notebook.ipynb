{
 "cells": [
  {
   "cell_type": "markdown",
   "metadata": {
    "_uuid": "625c587f57522c988f35e92b515b8d8ef1f323d6"
   },
   "source": [
    "# Intro to Programming in Python\n",
    "## This notebook is an interactive tool to share/run code"
   ]
  },
  {
   "cell_type": "markdown",
   "metadata": {},
   "source": [
    "> \"Programming languages allow us to formalize instructions and express logical rules, business rules, mathematics, processes, and automation instructions in one single notation.\" - Ryan Orsinger"
   ]
  },
  {
   "cell_type": "markdown",
   "metadata": {},
   "source": [
    "# Part I - Basic Buiding Blocks\n",
    "0. Orientation - How to run code in this notebook\n",
    "1. Printing values\n",
    "2. Using comments\n",
    "3. Variables, assignment, and re-assignment\n",
    "4. Basic data types\n",
    "5. Mathematical operations in Python\n",
    "6. Logical operations in Python\n",
    "7. Comparison operators"
   ]
  },
  {
   "cell_type": "markdown",
   "metadata": {},
   "source": [
    "### 0. Orientation\n",
    "- Jupyter Notebooks, which Kaggle calls \"Kernels\", are a way to share and interactively run code from your browser.\n",
    "- Notebooks are made of cells\n",
    "- Each cell contains either code or text. \n",
    "- Code cells run the code, text cells render the text\n",
    "- To run a cell, click on the cell and click the Play button or do \"shift + Enter\" on your keyboard.\n",
    "- Python runs in all kinds of environments. These instructions are specific to Kaggle Kernels/Jupyter Notebooks."
   ]
  },
  {
   "cell_type": "markdown",
   "metadata": {},
   "source": [
    "### 1. Printing with the `print()` function"
   ]
  },
  {
   "cell_type": "code",
   "execution_count": null,
   "metadata": {},
   "outputs": [],
   "source": [
    "print(\"Good morning, ya'll!\")"
   ]
  },
  {
   "cell_type": "code",
   "execution_count": null,
   "metadata": {},
   "outputs": [],
   "source": [
    "print(\"Use the print command\")\n",
    "print(\"To print\")\n",
    "print(\"Prints each and every line\")"
   ]
  },
  {
   "cell_type": "code",
   "execution_count": null,
   "metadata": {},
   "outputs": [],
   "source": [
    "\"Notebook cells automatically print the last line of code\""
   ]
  },
  {
   "cell_type": "code",
   "execution_count": null,
   "metadata": {},
   "outputs": [],
   "source": [
    "# run this cell and the number 5 will be printed\n",
    "5"
   ]
  },
  {
   "cell_type": "code",
   "execution_count": null,
   "metadata": {},
   "outputs": [],
   "source": [
    "\"Multiple lines\"\n",
    "\"do not print automatically\"\n",
    "\"only the last line\""
   ]
  },
  {
   "cell_type": "code",
   "execution_count": null,
   "metadata": {},
   "outputs": [],
   "source": [
    "print(\"That means\")\n",
    "print(\"The print command is important.\")\n",
    "print(\"When we want to print each line\")"
   ]
  },
  {
   "cell_type": "code",
   "execution_count": null,
   "metadata": {},
   "outputs": [],
   "source": [
    "# Exercise: Print your name in this cell\n"
   ]
  },
  {
   "cell_type": "code",
   "execution_count": null,
   "metadata": {},
   "outputs": [],
   "source": [
    "# Exercise: Print your favorite number in this cell\n"
   ]
  },
  {
   "cell_type": "code",
   "execution_count": null,
   "metadata": {},
   "outputs": [],
   "source": [
    "# Exercise: Print the number 7 in this cell\n"
   ]
  },
  {
   "cell_type": "code",
   "execution_count": null,
   "metadata": {},
   "outputs": [],
   "source": [
    "# Exercise: Print out 3 + 4 in this cell\n"
   ]
  },
  {
   "cell_type": "code",
   "execution_count": null,
   "metadata": {},
   "outputs": [],
   "source": [
    "# Exercise: Print out 3 * 5 in this cell\n"
   ]
  },
  {
   "cell_type": "markdown",
   "metadata": {},
   "source": [
    "### 2. Comments are how we notate our code with descriptive text\n",
    "- Python comments are created by the hashtag symbol. \n",
    "- The hashtag \"comments out\" everything to the right of the hashtag.\n",
    "- Comments exist in the code but do not execute\n",
    "- Commenting your code is an industry best practice\n",
    "- A hashtag at the beginning of a line \"comments out"
   ]
  },
  {
   "cell_type": "code",
   "execution_count": null,
   "metadata": {},
   "outputs": [],
   "source": [
    "# This is a comment. Run this cell. Do you see anything? Why or why not?"
   ]
  },
  {
   "cell_type": "code",
   "execution_count": null,
   "metadata": {},
   "outputs": [],
   "source": [
    "# First, run this cell.\n",
    "# Then delete the hashtag at the beginning of the last line.\n",
    "# Last, run the cell again.\n",
    "# print(\"This is a 'commented out' print command\")"
   ]
  },
  {
   "cell_type": "code",
   "execution_count": null,
   "metadata": {},
   "outputs": [],
   "source": [
    "# In Python\n",
    "# Comments are a best-practice when it comes to communicating to your future self and to fellow developers\n",
    "# print(\"Once the # at the beginning of this line is removed, this string will print.\") # additional hashtags make additional comments"
   ]
  },
  {
   "cell_type": "markdown",
   "metadata": {},
   "source": [
    "### 3. Variables point to values and give them a name\n",
    "- \"Assigning a variable\" means to bind value to a variable\n",
    "- Variables allow us to name values\n",
    "- Variables hold onto values for later.\n",
    "- Variables hold their assigned value(s) until \n",
    "- Applications use the same variable to hold different values for different users "
   ]
  },
  {
   "cell_type": "code",
   "execution_count": null,
   "metadata": {},
   "outputs": [],
   "source": [
    "# Variables hold values that we use later in the program by name.\n",
    "message = \"Hello, Everybody!\"\n",
    "print(message)"
   ]
  },
  {
   "cell_type": "code",
   "execution_count": null,
   "metadata": {},
   "outputs": [],
   "source": [
    "favorite_quote = \"If you can't solve a problem, then there is an easier problem you can solve:  find it.\"\n",
    "print(favorite_quote)"
   ]
  },
  {
   "cell_type": "code",
   "execution_count": null,
   "metadata": {},
   "outputs": [],
   "source": [
    "# Variables are assigned to point to values.\n",
    "favorite_food = \"lasagna\"\n",
    "print(\"My favorite food is\", favorite_food)"
   ]
  },
  {
   "cell_type": "code",
   "execution_count": null,
   "metadata": {},
   "outputs": [],
   "source": [
    "# Variables can also be re-assigned to point to different values.\n",
    "favorite_food = \"pizza\" \n",
    "print(\"I changed my mind. My favorite food is actually\", favorite_food)"
   ]
  },
  {
   "cell_type": "code",
   "execution_count": null,
   "metadata": {},
   "outputs": [],
   "source": [
    "# Exercise: Reassign the favorite_food variable to hold your own favorite food, then print the variable.\n"
   ]
  },
  {
   "cell_type": "code",
   "execution_count": null,
   "metadata": {},
   "outputs": [],
   "source": [
    "# Exercise: Create and assign the variable favorite_number to hold your own favorite number.\n"
   ]
  },
  {
   "cell_type": "code",
   "execution_count": null,
   "metadata": {},
   "outputs": [],
   "source": [
    "# Exercise: Reassign the favorite_food variable to hold the number 7. \n",
    "# What happens and why? Does this match your expectations?\n"
   ]
  },
  {
   "cell_type": "markdown",
   "metadata": {},
   "source": [
    "### 4. Data Types \n",
    "\n",
    "Each piece of data has two fundamental characteristics:\n",
    "- The value of the data itself.\n",
    "- Every value has a data type which explains what kind of data the value is.\n",
    "- For example, the integer 2 has the value of 2 and the data type is integer.\n",
    "- The first data-types to learn:\n",
    "    - None\n",
    "    - Boolean\n",
    "    - Integer\n",
    "    - Float\n",
    "    - String\n",
    "    - List\n",
    "    - Function"
   ]
  },
  {
   "cell_type": "code",
   "execution_count": null,
   "metadata": {},
   "outputs": [],
   "source": [
    "# The \"None\" data type represents the absence of a value. This is called \"null\" in some other programming languages\n",
    "type(None) "
   ]
  },
  {
   "cell_type": "code",
   "execution_count": null,
   "metadata": {},
   "outputs": [],
   "source": [
    "# Numbers without a decimal are integers. Integers can be negative or positive.\n",
    "type(-99)"
   ]
  },
  {
   "cell_type": "code",
   "execution_count": null,
   "metadata": {},
   "outputs": [],
   "source": [
    "type(2.3)"
   ]
  },
  {
   "cell_type": "code",
   "execution_count": null,
   "metadata": {},
   "outputs": [],
   "source": [
    "type(\"Howdy!\")"
   ]
  },
  {
   "cell_type": "code",
   "execution_count": null,
   "metadata": {},
   "outputs": [],
   "source": [
    "# True and False are the only two Boolean values.\n",
    "True\n",
    "False\n",
    "\n",
    "print(True)\n",
    "print(False)"
   ]
  },
  {
   "cell_type": "markdown",
   "metadata": {},
   "source": [
    "### 5. Mathematical Operations in Python\n",
    "- Computers are not intelligent. They do 2nd grade math as fast as possible.\n",
    "- Programming languages need to have the ability to perform mathematical operations.\n",
    "- Mathematical operators in Python evaluate and provide\n",
    "- Order of operations in Python follows PEMDAS:\n",
    "    - Parentheses\n",
    "    - Exponents\n",
    "    - Multiplication\n",
    "    - Division\n",
    "    - Addition\n",
    "    - Subtraction"
   ]
  },
  {
   "cell_type": "markdown",
   "metadata": {},
   "source": [
    "###  Operators operate on values and produce values\n",
    "#### Let's look at some math operators in Python\n",
    "- `+` adds two numbers together\n",
    "- `-` subtracts the second number from the first\n",
    "- `*` multiplies both numbers and returns the product\n",
    "- `/` divides the first number by the second\n",
    "- `%` provides the remainder of dividing the first number by the second.  (called the modulo operator)\n",
    "- `**` is the exponentiation operator. 2 raised to the 3rd power is `2**3`"
   ]
  },
  {
   "cell_type": "code",
   "execution_count": null,
   "metadata": {},
   "outputs": [],
   "source": [
    "# Exercise: Add 1 plus 2 plus 3 plus 4 plus 5 plus 6 plus 7 plus 8 plus 9 plus 10\n"
   ]
  },
  {
   "cell_type": "code",
   "execution_count": null,
   "metadata": {},
   "outputs": [],
   "source": [
    "# Exercise: Subtract 23 from 55\n"
   ]
  },
  {
   "cell_type": "code",
   "execution_count": null,
   "metadata": {},
   "outputs": [],
   "source": [
    "# Exercise: Multiply 2.3 by 4.4. What's the data-type that this returns?\n"
   ]
  },
  {
   "cell_type": "code",
   "execution_count": null,
   "metadata": {},
   "outputs": [],
   "source": [
    "# Exercise: Multiply 3 by 5.\n"
   ]
  },
  {
   "cell_type": "code",
   "execution_count": null,
   "metadata": {},
   "outputs": [],
   "source": [
    "# Exercise: Print out the data-type of the result of multiplying 11 * 7\n"
   ]
  },
  {
   "cell_type": "code",
   "execution_count": null,
   "metadata": {},
   "outputs": [],
   "source": [
    "# Exercise: Divide 1 by 2. What happens? What data type is returned?\n"
   ]
  },
  {
   "cell_type": "code",
   "execution_count": null,
   "metadata": {},
   "outputs": [],
   "source": [
    "# Exercise: Divide 5 by 0. What happens? Why do you think that is?\n"
   ]
  },
  {
   "cell_type": "code",
   "execution_count": null,
   "metadata": {},
   "outputs": [],
   "source": [
    "# Exercise: Use the modulo operator to obtain the remainder of dividing 5 by 2\n"
   ]
  },
  {
   "cell_type": "code",
   "execution_count": null,
   "metadata": {},
   "outputs": [],
   "source": [
    "# Exercise: Use the modulo operator to obtain the remainder of dividing 8 by 2\n"
   ]
  },
  {
   "cell_type": "code",
   "execution_count": null,
   "metadata": {},
   "outputs": [],
   "source": [
    "# Exercise: Use the modulo operator to obtain the remainder of dividing 9 by 3\n"
   ]
  },
  {
   "cell_type": "code",
   "execution_count": null,
   "metadata": {},
   "outputs": [],
   "source": [
    "# Exercise: Use the modulo operator to obtain the remainder of dividing 7 by 2\n"
   ]
  },
  {
   "cell_type": "code",
   "execution_count": null,
   "metadata": {},
   "outputs": [],
   "source": [
    "# Exercise: Use the exponent operator to raise 2 to the 3rd power\n"
   ]
  },
  {
   "cell_type": "code",
   "execution_count": null,
   "metadata": {},
   "outputs": [],
   "source": [
    "# Exercise: Use the exponent operator to raise 10 to the 10th power\n"
   ]
  },
  {
   "cell_type": "code",
   "execution_count": null,
   "metadata": {},
   "outputs": [],
   "source": [
    "# Exercise: Use the exponent operator to raise 100 to the 100th power\n"
   ]
  },
  {
   "cell_type": "code",
   "execution_count": null,
   "metadata": {},
   "outputs": [],
   "source": [
    "# Exercise: Use the exponent operator to raise 2 to the negative 1st power\n"
   ]
  },
  {
   "cell_type": "code",
   "execution_count": null,
   "metadata": {},
   "outputs": [],
   "source": [
    "# Exercise: Use the exponent operator to raise 123 to the 0th power\n"
   ]
  },
  {
   "cell_type": "code",
   "execution_count": null,
   "metadata": {},
   "outputs": [],
   "source": [
    "# Exercise: Use what you have learned to determine the average of the following variables\n",
    "a = 5\n",
    "b = 7\n",
    "c = 9\n",
    "d = 17\n",
    "e = 11"
   ]
  },
  {
   "cell_type": "markdown",
   "metadata": {},
   "source": [
    "### 6. Logical Operations in Python\n",
    "- Most common logical operations are:\n",
    "    - And\n",
    "    - Or\n",
    "    - Not\n",
    "- For a reminder, see [Conjunction Junction from School House Rock](https://www.youtube.com/watch?v=4AyjKgz9tKg)"
   ]
  },
  {
   "cell_type": "code",
   "execution_count": null,
   "metadata": {},
   "outputs": [],
   "source": [
    "# \"Not\" operator changes the boolean value. (Only booleans are True and False)\n",
    "is_raining = False\n",
    "not is_raining"
   ]
  },
  {
   "cell_type": "code",
   "execution_count": null,
   "metadata": {},
   "outputs": [],
   "source": [
    "# Boolean values assigned to variables \n",
    "right_here_now = True\n",
    "learning_python = True\n",
    "on_the_moon = False"
   ]
  },
  {
   "cell_type": "code",
   "execution_count": null,
   "metadata": {},
   "outputs": [],
   "source": [
    "print(right_here_now and on_the_moon)"
   ]
  },
  {
   "cell_type": "code",
   "execution_count": null,
   "metadata": {},
   "outputs": [],
   "source": [
    "print(right_here_now and learning_python)"
   ]
  },
  {
   "cell_type": "code",
   "execution_count": null,
   "metadata": {},
   "outputs": [],
   "source": [
    "print(learning_python or on_the_moon)"
   ]
  },
  {
   "cell_type": "code",
   "execution_count": null,
   "metadata": {},
   "outputs": [],
   "source": [
    "if right_here_now:\n",
    "    print(\"So glad you made it today!\")\n",
    "    print(\"Wherever you go, there you are.\")\n",
    "else:\n",
    "    print(\"You are not right here now.\")"
   ]
  },
  {
   "cell_type": "code",
   "execution_count": null,
   "metadata": {
    "_uuid": "c4830a133cdd79071a8c68ad633ff996b88856ed"
   },
   "outputs": [],
   "source": [
    "# Before running this cell, think about and predict the outcome.\n",
    "if on_the_moon:\n",
    "    print(\"You are currently on a lunar base.\")\n",
    "else:\n",
    "    print(\"You are not on the moon!\")"
   ]
  },
  {
   "cell_type": "code",
   "execution_count": null,
   "metadata": {
    "_uuid": "c4830a133cdd79071a8c68ad633ff996b88856ed"
   },
   "outputs": [],
   "source": [
    "# Before running this cell, think about and predict the outcome.\n",
    "if right_here_now and learning_python:\n",
    "    print(\"We are right here now and learning python.\")"
   ]
  },
  {
   "cell_type": "code",
   "execution_count": null,
   "metadata": {
    "_uuid": "c4830a133cdd79071a8c68ad633ff996b88856ed"
   },
   "outputs": [],
   "source": [
    "# Before running this cell, think about and predict the outcome.\n",
    "if right_here_now and learning_python and on_the_moon:\n",
    "    print(\"You must be magic since you're on the moon and here and learning Python all at the same time.\")"
   ]
  },
  {
   "cell_type": "code",
   "execution_count": null,
   "metadata": {
    "_uuid": "c4830a133cdd79071a8c68ad633ff996b88856ed"
   },
   "outputs": [],
   "source": [
    "# Before running this cell, think about and predict the outcome.\n",
    "if right_here_now or on_the_moon:\n",
    "    print(\"How many True values does it take with an OR for the entirety to be True?\")"
   ]
  },
  {
   "cell_type": "code",
   "execution_count": null,
   "metadata": {},
   "outputs": [],
   "source": [
    "# Before running this cell, think about and predict the outcome.\n",
    "# Carefully consider the parentheses...\n",
    "if learning_python and (right_here_now or on_the_moon):\n",
    "    print(\"In addition to learning python, you are either right here now or on the moon\")"
   ]
  },
  {
   "cell_type": "code",
   "execution_count": null,
   "metadata": {},
   "outputs": [],
   "source": [
    "# Exercise: Create a variable called is_raining and assign it True or False depending on if it's raining right now\n"
   ]
  },
  {
   "cell_type": "code",
   "execution_count": null,
   "metadata": {},
   "outputs": [],
   "source": [
    "# Exercise: Create a variable named will_rain_later and assign a value of True or False if it may rain later today\n"
   ]
  },
  {
   "cell_type": "code",
   "execution_count": null,
   "metadata": {},
   "outputs": [],
   "source": [
    "# Exercise: Create an \"if\" condition that checks if it's raining now or later. \n",
    "# If it is going to rain now or later, then print out \"I'll bring an umbrella\"\n"
   ]
  },
  {
   "cell_type": "markdown",
   "metadata": {},
   "source": [
    "### 7. Comparison Operations in everyday life\n",
    "- Comparison operators compare two values and give us a True or False answer\n",
    "- Some comparisons in the real worl:\n",
    "    - Are these two things equal?\n",
    "    - Are these two things not equal?\n",
    "    - Is A greather than B?\n",
    "    - Is A greater than or equal to B?\n",
    "    - Is A less than B?\n",
    "    - Is A less than or equal to B?"
   ]
  },
  {
   "cell_type": "markdown",
   "metadata": {},
   "source": [
    "### Python Comparison Operators compare two values and return a True or False\n",
    "- `==` compares two values to see if they are the same value.\n",
    "- `!=` asks if the values on each side of the operator are **not** the same.]\n",
    "- `<` and `<=` are less than and less than or equal to\n",
    "- `>` and `>=` are greater than and greater than or equal to, respectively."
   ]
  },
  {
   "cell_type": "code",
   "execution_count": null,
   "metadata": {},
   "outputs": [],
   "source": [
    "print(5 == 5)\n",
    "print(-4 + 4 == 0)"
   ]
  },
  {
   "cell_type": "code",
   "execution_count": null,
   "metadata": {},
   "outputs": [],
   "source": [
    "5 < 10"
   ]
  },
  {
   "cell_type": "code",
   "execution_count": null,
   "metadata": {},
   "outputs": [],
   "source": [
    "print(\"Hello\" == \"Goodbye\")\n",
    "print(\"Hello\" != \"Goodbye\") # != means \"not equal to\" \n",
    "# = assignment\n",
    "# == comparison\n",
    "# != not the same"
   ]
  },
  {
   "cell_type": "markdown",
   "metadata": {},
   "source": [
    "# Part II -  Control Structures, Lists, and Functions\n",
    "- With programming and analysis, we work with lots of lists of numbers.\n",
    "- The primary data type in Python for holding lists of numbers is called a list. It's like an array in other programming languages."
   ]
  },
  {
   "cell_type": "markdown",
   "metadata": {},
   "source": [
    "### Lists are ordered lists of values.\n",
    "- Created with square brackets\n",
    "- Lists can hold any value(s)\n",
    "- Lists can hold lists. \n",
    "- Think of a list as a column of values in a spreadsheet (1 dimensional list)\n",
    "- Think of a list of lists as an the entire spreadsheet  (2 dimensional list)\n",
    "- We can have lists of lists of lists, and that's like having a workbook of spreadsheets (3 dimensions)\n",
    "- There are other types of sequences and collections in Python, but lists are a solid start!"
   ]
  },
  {
   "cell_type": "code",
   "execution_count": null,
   "metadata": {},
   "outputs": [],
   "source": [
    "# Lists are created with square brackets. Each item on the list is separated by a comma. Lists can hold any data type\n",
    "beatles = [\"John\", \"Paul\", \"George\"]"
   ]
  },
  {
   "cell_type": "code",
   "execution_count": null,
   "metadata": {},
   "outputs": [],
   "source": [
    "# Lists have built-in functions\n",
    "beatles.append(\"Ringo\") # Don't forget Ringo\n",
    "print(beatles)"
   ]
  },
  {
   "cell_type": "code",
   "execution_count": null,
   "metadata": {},
   "outputs": [],
   "source": [
    "# .append and .reverse are some of the built-in list functions\n",
    "beatles.reverse()\n",
    "print(beatles)"
   ]
  },
  {
   "cell_type": "code",
   "execution_count": null,
   "metadata": {},
   "outputs": [],
   "source": [
    "# We can also use lists to hold numbers\n",
    "odds = [1, 3, 5, 7, 9, 11, 13, 17, 19, 21]"
   ]
  },
  {
   "cell_type": "code",
   "execution_count": null,
   "metadata": {},
   "outputs": [],
   "source": [
    "# Single Condition with one \"if\"\n",
    "if(is_raining == True):\n",
    "    print(\"Bring an umbrella\")"
   ]
  },
  {
   "cell_type": "code",
   "execution_count": null,
   "metadata": {},
   "outputs": [],
   "source": [
    "# Conditional execution\n",
    "if 5 < 0:\n",
    "    print(\"We broke math\")\n",
    "else:\n",
    "    print(\"5 is not less than zero. 5 < 0 returns False\")\n",
    "    "
   ]
  },
  {
   "cell_type": "code",
   "execution_count": null,
   "metadata": {},
   "outputs": [],
   "source": [
    "favorite_number = 5\n",
    "if favorite_number == 23:\n",
    "    print(\"Yay! That's my favorite number, too!\")\n",
    "    print(\"anything indented inside the if is the BODY of the if\")\n",
    "    print(\"so, all the lines of code indented after the if run if the if is true\")"
   ]
  },
  {
   "cell_type": "code",
   "execution_count": null,
   "metadata": {},
   "outputs": [],
   "source": [
    "is_raining = False\n",
    "if is_raining:\n",
    "    print(\"Bring an umbrella and wear sensible shoes\")\n",
    "else: \n",
    "    print(\"Wear sandals\")\n",
    "\n",
    "print(\"The first un-indented line terminates your if/else\")\n",
    "print(\"Work on your python\")\n"
   ]
  },
  {
   "cell_type": "code",
   "execution_count": null,
   "metadata": {},
   "outputs": [],
   "source": [
    "# Conditional execution\n",
    "doing_python_right_now = True\n",
    "on_mars_right_now = False\n",
    "\n",
    "\n",
    "if(doing_python_right_now == True):\n",
    "    print(\"Yay Python! Practice makes permanent\")\n",
    "if(on_mars_right_now):\n",
    "    print(\"How long do you plan to stay on Mars?\")\n",
    "else:\n",
    "    print(\"I'm glad we're on Spaceship Earth.\")\n",
    "\n"
   ]
  },
  {
   "cell_type": "code",
   "execution_count": null,
   "metadata": {},
   "outputs": [],
   "source": [
    "favorite_quote = \"If you can't solve a problem, then there is an easier problem you can solve:  find it.\"\n",
    "print(favorite_quote)"
   ]
  },
  {
   "cell_type": "markdown",
   "metadata": {
    "_uuid": "2fa39d1e0b03a084c2a3b409a3f71194d2d40372"
   },
   "source": [
    "### Functions \n",
    "There are 2 kinds of functions in Python: built-in and user defined functions.\n",
    "\n",
    "Some built in functions:\n",
    "- type, print, len, sum, abs, range, list, min, max, round, etc...\n",
    "- For a complete list of build in functions, see https://docs.python.org/3/library/functions.html\n"
   ]
  },
  {
   "cell_type": "code",
   "execution_count": null,
   "metadata": {
    "_uuid": "b54e45874267d22e5976ef9268bac2b6c7cc126e"
   },
   "outputs": [],
   "source": [
    "fruits = [\"kiwi\", \"mango\", \"guava\", \"piña\", \"watermelon\", \"tangerine\"]\n",
    "numbers = [23, 5, 4, 3, 2, 1, 0, -37, 333]\n"
   ]
  },
  {
   "cell_type": "code",
   "execution_count": null,
   "metadata": {},
   "outputs": [],
   "source": [
    "def is_even(number):\n",
    "    remainder = number % 2 # the % operator returns the remainder of integer division of the number on the left by the number on the right\n",
    "    if remainder == 0: # even numbers have no remainder\n",
    "        return True\n",
    "    else:\n",
    "        return False"
   ]
  },
  {
   "cell_type": "code",
   "execution_count": null,
   "metadata": {
    "_uuid": "9460c6387736a1fa13ec55c8a54d4e64b237d824"
   },
   "outputs": [],
   "source": [
    "def sarcastic(sentence):\n",
    "    output = \"\"\n",
    "    for i, letter in enumerate(sentence):\n",
    "        if is_even(i):\n",
    "            letter = letter.upper()\n",
    "        else:\n",
    "            letter = letter.lower()\n",
    "        output += letter\n",
    "    return output              "
   ]
  },
  {
   "cell_type": "code",
   "execution_count": null,
   "metadata": {
    "_uuid": "c410084e558eb0215cd63e626d1116329aef9329"
   },
   "outputs": [],
   "source": [
    "# lots of built in functions work on sequences\n",
    "names = [\"John\", \"Paul\", \"George\", \"Ringo\"]\n",
    "\n",
    "len(names)\n",
    "numbers = [2, 3, 5, 7]\n",
    "max(numbers)\n",
    "min(numbers)"
   ]
  },
  {
   "cell_type": "code",
   "execution_count": null,
   "metadata": {
    "_uuid": "975e69701f4384666bd841fcacc0b75c8caf0fee"
   },
   "outputs": [],
   "source": [
    "# def keyword to define, name_of_function, parentheses for parameters\n",
    "def square(number):\n",
    "    return number * number # return is the output we hand back to the code that called the function (calling == execute == run)\n",
    "\n",
    "# sigma notation\n",
    "numbers = [2, 3, 5, 7]\n",
    "sum(numbers)\n",
    "\n",
    "# each number squared\n",
    "result = list(map(square, numbers))\n",
    "sum(result)"
   ]
  },
  {
   "cell_type": "code",
   "execution_count": null,
   "metadata": {
    "_uuid": "6f3e14214a6d601f28e3a794cab504c67c74c0d8"
   },
   "outputs": [],
   "source": [
    "# == is the same thing as = sign in math\n",
    "# >, <, <=, >= are all the same thing as math\n",
    "numbers = [2, 3, 5, 7]\n",
    "total = sum(numbers)\n",
    "average = total / len(numbers)\n"
   ]
  }
 ],
 "metadata": {
  "kernelspec": {
   "display_name": "Python 3",
   "language": "python",
   "name": "python3"
  },
  "language_info": {
   "codemirror_mode": {
    "name": "ipython",
    "version": 3
   },
   "file_extension": ".py",
   "mimetype": "text/x-python",
   "name": "python",
   "nbconvert_exporter": "python",
   "pygments_lexer": "ipython3",
   "version": "3.7.3"
  }
 },
 "nbformat": 4,
 "nbformat_minor": 1
}
