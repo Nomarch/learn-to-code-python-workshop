{
 "cells": [
  {
   "cell_type": "markdown",
   "metadata": {
    "collapsed": true
   },
   "source": [
    "# Let's translate math notation to python code\n",
    "\n",
    "## Exercises\n",
    "# 17 Notations to \n",
    "# print out the answer\n",
    "# you fill in the operator kinda exercises\n",
    "\n",
    "\n"
   ]
  },
  {
   "cell_type": "code",
   "execution_count": 1,
   "metadata": {
    "collapsed": true
   },
   "outputs": [],
   "source": [
    "# Equality\n",
    "# Inequality  \n",
    "# greater than, greater than or equal to\n",
    "# less than, less than or equal to\n",
    "# Set notations\n",
    "# Logical implication A => B\n",
    "# Logical equivalence \"if and only if\" \n",
    "# Logical conjunction & \"and\"\n",
    "# ∀ Universal quantifier, for all \n",
    "# Existential Quantifier, for some\n",
    "# Set with no elements\n",
    "# Set of natural nu bers\n",
    "# Set of integers\n",
    "# Set of real numbers\n",
    "# Set Intersection\n",
    "# Set union\n",
    "# Is Subset of\n",
    "# Is an element of\n",
    "# Not an element of\n",
    "# disjoint sets\n",
    "# capital sigma\n",
    "# capital pi\n",
    "# x ↦ f (x)\n",
    "# function f(x) = 3x + 1, \n",
    "    # def threeXPlusOne(x):\n",
    "    #     return 3*x + 1\n",
    "\n",
    "# if I need to swap any out:\n",
    "# lowercase pi\n",
    "# capital pi\n",
    "# absolute value?"
   ]
  },
  {
   "cell_type": "code",
   "execution_count": null,
   "metadata": {
    "collapsed": true
   },
   "outputs": [],
   "source": [
    "# {1, 2, 3} ________ {2, 4, 5} is {2}\n"
   ]
  },
  {
   "cell_type": "code",
   "execution_count": null,
   "metadata": {
    "collapsed": true
   },
   "outputs": [],
   "source": [
    "# 1 ____ [1, 2, 3] is true\n"
   ]
  },
  {
   "cell_type": "code",
   "execution_count": null,
   "metadata": {
    "collapsed": true
   },
   "outputs": [],
   "source": [
    "# \"nan\" ______ \"banana\" is False\n",
    "# \"nana\" ______ \"banana\" is True"
   ]
  },
  {
   "cell_type": "code",
   "execution_count": null,
   "metadata": {
    "collapsed": true
   },
   "outputs": [],
   "source": [
    "# (1, 2) in {}"
   ]
  },
  {
   "cell_type": "code",
   "execution_count": null,
   "metadata": {
    "collapsed": true
   },
   "outputs": [],
   "source": [
    "# [2, 3] ____ [1, 2, 3] false "
   ]
  },
  {
   "cell_type": "code",
   "execution_count": null,
   "metadata": {
    "collapsed": true
   },
   "outputs": [],
   "source": []
  },
  {
   "cell_type": "code",
   "execution_count": null,
   "metadata": {
    "collapsed": true
   },
   "outputs": [],
   "source": []
  },
  {
   "cell_type": "code",
   "execution_count": null,
   "metadata": {
    "collapsed": true
   },
   "outputs": [],
   "source": []
  }
 ],
 "metadata": {
  "kernelspec": {
   "display_name": "Python 3",
   "language": "python",
   "name": "python3"
  },
  "language_info": {
   "codemirror_mode": {
    "name": "ipython",
    "version": 3
   },
   "file_extension": ".py",
   "mimetype": "text/x-python",
   "name": "python",
   "nbconvert_exporter": "python",
   "pygments_lexer": "ipython3",
   "version": "3.6.8"
  }
 },
 "nbformat": 4,
 "nbformat_minor": 2
}
